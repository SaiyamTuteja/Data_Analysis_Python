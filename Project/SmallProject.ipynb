{
 "cells": [
  {
   "cell_type": "markdown",
   "id": "206666e2",
   "metadata": {},
   "source": [
    "## Import the Library"
   ]
  },
  {
   "cell_type": "code",
   "execution_count": 2,
   "id": "20c6e53d",
   "metadata": {},
   "outputs": [],
   "source": [
    "import pandas as pd \n",
    "import numpy as np \n",
    "import matplotlib.pyplot as plt "
   ]
  },
  {
   "cell_type": "markdown",
   "id": "0b1efca8",
   "metadata": {},
   "source": [
    "## Load the Data File|"
   ]
  },
  {
   "cell_type": "code",
   "execution_count": 3,
   "id": "a50071e4",
   "metadata": {},
   "outputs": [
    {
     "name": "stdout",
     "output_type": "stream",
     "text": [
      "   match_id team1 team2 winner      venue  runs_team1  runs_team2\n",
      "0         1    MI   CSK     MI     Mumbai         165         160\n",
      "1         2   CSK   RCB    RCB    Chennai         150         151\n",
      "2         3   RCB    GT     GT  Bangalore         178         180\n",
      "3         4    MI    RR     RR      Delhi         190         192\n",
      "4         5    GT   LSG     GT  Ahmedabad         200         198\n"
     ]
    }
   ],
   "source": [
    "DataSet=pd.read_csv(\"sample_ipl_data.csv\")\n",
    "print(DataSet)"
   ]
  },
  {
   "cell_type": "code",
   "execution_count": 4,
   "id": "c3288b70",
   "metadata": {},
   "outputs": [
    {
     "data": {
      "text/html": [
       "<div>\n",
       "<style scoped>\n",
       "    .dataframe tbody tr th:only-of-type {\n",
       "        vertical-align: middle;\n",
       "    }\n",
       "\n",
       "    .dataframe tbody tr th {\n",
       "        vertical-align: top;\n",
       "    }\n",
       "\n",
       "    .dataframe thead th {\n",
       "        text-align: right;\n",
       "    }\n",
       "</style>\n",
       "<table border=\"1\" class=\"dataframe\">\n",
       "  <thead>\n",
       "    <tr style=\"text-align: right;\">\n",
       "      <th></th>\n",
       "      <th>match_id</th>\n",
       "      <th>team1</th>\n",
       "      <th>team2</th>\n",
       "      <th>winner</th>\n",
       "      <th>venue</th>\n",
       "      <th>runs_team1</th>\n",
       "      <th>runs_team2</th>\n",
       "    </tr>\n",
       "  </thead>\n",
       "  <tbody>\n",
       "    <tr>\n",
       "      <th>0</th>\n",
       "      <td>1</td>\n",
       "      <td>MI</td>\n",
       "      <td>CSK</td>\n",
       "      <td>MI</td>\n",
       "      <td>Mumbai</td>\n",
       "      <td>165</td>\n",
       "      <td>160</td>\n",
       "    </tr>\n",
       "    <tr>\n",
       "      <th>1</th>\n",
       "      <td>2</td>\n",
       "      <td>CSK</td>\n",
       "      <td>RCB</td>\n",
       "      <td>RCB</td>\n",
       "      <td>Chennai</td>\n",
       "      <td>150</td>\n",
       "      <td>151</td>\n",
       "    </tr>\n",
       "    <tr>\n",
       "      <th>2</th>\n",
       "      <td>3</td>\n",
       "      <td>RCB</td>\n",
       "      <td>GT</td>\n",
       "      <td>GT</td>\n",
       "      <td>Bangalore</td>\n",
       "      <td>178</td>\n",
       "      <td>180</td>\n",
       "    </tr>\n",
       "    <tr>\n",
       "      <th>3</th>\n",
       "      <td>4</td>\n",
       "      <td>MI</td>\n",
       "      <td>RR</td>\n",
       "      <td>RR</td>\n",
       "      <td>Delhi</td>\n",
       "      <td>190</td>\n",
       "      <td>192</td>\n",
       "    </tr>\n",
       "    <tr>\n",
       "      <th>4</th>\n",
       "      <td>5</td>\n",
       "      <td>GT</td>\n",
       "      <td>LSG</td>\n",
       "      <td>GT</td>\n",
       "      <td>Ahmedabad</td>\n",
       "      <td>200</td>\n",
       "      <td>198</td>\n",
       "    </tr>\n",
       "  </tbody>\n",
       "</table>\n",
       "</div>"
      ],
      "text/plain": [
       "   match_id team1 team2 winner      venue  runs_team1  runs_team2\n",
       "0         1    MI   CSK     MI     Mumbai         165         160\n",
       "1         2   CSK   RCB    RCB    Chennai         150         151\n",
       "2         3   RCB    GT     GT  Bangalore         178         180\n",
       "3         4    MI    RR     RR      Delhi         190         192\n",
       "4         5    GT   LSG     GT  Ahmedabad         200         198"
      ]
     },
     "execution_count": 4,
     "metadata": {},
     "output_type": "execute_result"
    }
   ],
   "source": [
    "DataSet.head()"
   ]
  },
  {
   "cell_type": "code",
   "execution_count": 5,
   "id": "26cf35ef",
   "metadata": {},
   "outputs": [
    {
     "name": "stdout",
     "output_type": "stream",
     "text": [
      "<class 'pandas.core.frame.DataFrame'>\n",
      "RangeIndex: 5 entries, 0 to 4\n",
      "Data columns (total 7 columns):\n",
      " #   Column      Non-Null Count  Dtype \n",
      "---  ------      --------------  ----- \n",
      " 0   match_id    5 non-null      int64 \n",
      " 1   team1       5 non-null      object\n",
      " 2   team2       5 non-null      object\n",
      " 3   winner      5 non-null      object\n",
      " 4   venue       5 non-null      object\n",
      " 5   runs_team1  5 non-null      int64 \n",
      " 6   runs_team2  5 non-null      int64 \n",
      "dtypes: int64(3), object(4)\n",
      "memory usage: 412.0+ bytes\n"
     ]
    }
   ],
   "source": [
    "DataSet.info()"
   ]
  },
  {
   "cell_type": "code",
   "execution_count": 6,
   "id": "d7813158",
   "metadata": {},
   "outputs": [
    {
     "data": {
      "text/plain": [
       "35"
      ]
     },
     "execution_count": 6,
     "metadata": {},
     "output_type": "execute_result"
    }
   ],
   "source": [
    "DataSet.size"
   ]
  },
  {
   "cell_type": "code",
   "execution_count": 7,
   "id": "b2bbcd8b",
   "metadata": {},
   "outputs": [
    {
     "data": {
      "text/plain": [
       "(5, 7)"
      ]
     },
     "execution_count": 7,
     "metadata": {},
     "output_type": "execute_result"
    }
   ],
   "source": [
    "DataSet.shape"
   ]
  },
  {
   "cell_type": "code",
   "execution_count": 8,
   "id": "5454a1c2",
   "metadata": {},
   "outputs": [
    {
     "data": {
      "text/html": [
       "<div>\n",
       "<style scoped>\n",
       "    .dataframe tbody tr th:only-of-type {\n",
       "        vertical-align: middle;\n",
       "    }\n",
       "\n",
       "    .dataframe tbody tr th {\n",
       "        vertical-align: top;\n",
       "    }\n",
       "\n",
       "    .dataframe thead th {\n",
       "        text-align: right;\n",
       "    }\n",
       "</style>\n",
       "<table border=\"1\" class=\"dataframe\">\n",
       "  <thead>\n",
       "    <tr style=\"text-align: right;\">\n",
       "      <th></th>\n",
       "      <th>match_id</th>\n",
       "      <th>team1</th>\n",
       "      <th>team2</th>\n",
       "      <th>winner</th>\n",
       "      <th>venue</th>\n",
       "      <th>runs_team1</th>\n",
       "      <th>runs_team2</th>\n",
       "    </tr>\n",
       "  </thead>\n",
       "  <tbody>\n",
       "    <tr>\n",
       "      <th>0</th>\n",
       "      <td>False</td>\n",
       "      <td>False</td>\n",
       "      <td>False</td>\n",
       "      <td>False</td>\n",
       "      <td>False</td>\n",
       "      <td>False</td>\n",
       "      <td>False</td>\n",
       "    </tr>\n",
       "    <tr>\n",
       "      <th>1</th>\n",
       "      <td>False</td>\n",
       "      <td>False</td>\n",
       "      <td>False</td>\n",
       "      <td>False</td>\n",
       "      <td>False</td>\n",
       "      <td>False</td>\n",
       "      <td>False</td>\n",
       "    </tr>\n",
       "    <tr>\n",
       "      <th>2</th>\n",
       "      <td>False</td>\n",
       "      <td>False</td>\n",
       "      <td>False</td>\n",
       "      <td>False</td>\n",
       "      <td>False</td>\n",
       "      <td>False</td>\n",
       "      <td>False</td>\n",
       "    </tr>\n",
       "    <tr>\n",
       "      <th>3</th>\n",
       "      <td>False</td>\n",
       "      <td>False</td>\n",
       "      <td>False</td>\n",
       "      <td>False</td>\n",
       "      <td>False</td>\n",
       "      <td>False</td>\n",
       "      <td>False</td>\n",
       "    </tr>\n",
       "    <tr>\n",
       "      <th>4</th>\n",
       "      <td>False</td>\n",
       "      <td>False</td>\n",
       "      <td>False</td>\n",
       "      <td>False</td>\n",
       "      <td>False</td>\n",
       "      <td>False</td>\n",
       "      <td>False</td>\n",
       "    </tr>\n",
       "  </tbody>\n",
       "</table>\n",
       "</div>"
      ],
      "text/plain": [
       "   match_id  team1  team2  winner  venue  runs_team1  runs_team2\n",
       "0     False  False  False   False  False       False       False\n",
       "1     False  False  False   False  False       False       False\n",
       "2     False  False  False   False  False       False       False\n",
       "3     False  False  False   False  False       False       False\n",
       "4     False  False  False   False  False       False       False"
      ]
     },
     "execution_count": 8,
     "metadata": {},
     "output_type": "execute_result"
    }
   ],
   "source": [
    "DataSet.isna()"
   ]
  },
  {
   "cell_type": "code",
   "execution_count": 9,
   "id": "fb325af5",
   "metadata": {},
   "outputs": [
    {
     "data": {
      "text/html": [
       "<div>\n",
       "<style scoped>\n",
       "    .dataframe tbody tr th:only-of-type {\n",
       "        vertical-align: middle;\n",
       "    }\n",
       "\n",
       "    .dataframe tbody tr th {\n",
       "        vertical-align: top;\n",
       "    }\n",
       "\n",
       "    .dataframe thead th {\n",
       "        text-align: right;\n",
       "    }\n",
       "</style>\n",
       "<table border=\"1\" class=\"dataframe\">\n",
       "  <thead>\n",
       "    <tr style=\"text-align: right;\">\n",
       "      <th></th>\n",
       "      <th>match_id</th>\n",
       "      <th>runs_team1</th>\n",
       "      <th>runs_team2</th>\n",
       "    </tr>\n",
       "  </thead>\n",
       "  <tbody>\n",
       "    <tr>\n",
       "      <th>count</th>\n",
       "      <td>5.000000</td>\n",
       "      <td>5.000000</td>\n",
       "      <td>5.000000</td>\n",
       "    </tr>\n",
       "    <tr>\n",
       "      <th>mean</th>\n",
       "      <td>3.000000</td>\n",
       "      <td>176.600000</td>\n",
       "      <td>176.200000</td>\n",
       "    </tr>\n",
       "    <tr>\n",
       "      <th>std</th>\n",
       "      <td>1.581139</td>\n",
       "      <td>19.819183</td>\n",
       "      <td>20.228692</td>\n",
       "    </tr>\n",
       "    <tr>\n",
       "      <th>min</th>\n",
       "      <td>1.000000</td>\n",
       "      <td>150.000000</td>\n",
       "      <td>151.000000</td>\n",
       "    </tr>\n",
       "    <tr>\n",
       "      <th>25%</th>\n",
       "      <td>2.000000</td>\n",
       "      <td>165.000000</td>\n",
       "      <td>160.000000</td>\n",
       "    </tr>\n",
       "    <tr>\n",
       "      <th>50%</th>\n",
       "      <td>3.000000</td>\n",
       "      <td>178.000000</td>\n",
       "      <td>180.000000</td>\n",
       "    </tr>\n",
       "    <tr>\n",
       "      <th>75%</th>\n",
       "      <td>4.000000</td>\n",
       "      <td>190.000000</td>\n",
       "      <td>192.000000</td>\n",
       "    </tr>\n",
       "    <tr>\n",
       "      <th>max</th>\n",
       "      <td>5.000000</td>\n",
       "      <td>200.000000</td>\n",
       "      <td>198.000000</td>\n",
       "    </tr>\n",
       "  </tbody>\n",
       "</table>\n",
       "</div>"
      ],
      "text/plain": [
       "       match_id  runs_team1  runs_team2\n",
       "count  5.000000    5.000000    5.000000\n",
       "mean   3.000000  176.600000  176.200000\n",
       "std    1.581139   19.819183   20.228692\n",
       "min    1.000000  150.000000  151.000000\n",
       "25%    2.000000  165.000000  160.000000\n",
       "50%    3.000000  178.000000  180.000000\n",
       "75%    4.000000  190.000000  192.000000\n",
       "max    5.000000  200.000000  198.000000"
      ]
     },
     "execution_count": 9,
     "metadata": {},
     "output_type": "execute_result"
    }
   ],
   "source": [
    "DataSet.describe()"
   ]
  },
  {
   "cell_type": "code",
   "execution_count": 10,
   "id": "b2cc261a",
   "metadata": {},
   "outputs": [
    {
     "data": {
      "text/plain": [
       "Index(['match_id', 'team1', 'team2', 'winner', 'venue', 'runs_team1',\n",
       "       'runs_team2'],\n",
       "      dtype='object')"
      ]
     },
     "execution_count": 10,
     "metadata": {},
     "output_type": "execute_result"
    }
   ],
   "source": [
    "DataSet.columns"
   ]
  },
  {
   "cell_type": "code",
   "execution_count": 11,
   "id": "317732d5",
   "metadata": {},
   "outputs": [
    {
     "data": {
      "text/html": [
       "<div>\n",
       "<style scoped>\n",
       "    .dataframe tbody tr th:only-of-type {\n",
       "        vertical-align: middle;\n",
       "    }\n",
       "\n",
       "    .dataframe tbody tr th {\n",
       "        vertical-align: top;\n",
       "    }\n",
       "\n",
       "    .dataframe thead th {\n",
       "        text-align: right;\n",
       "    }\n",
       "</style>\n",
       "<table border=\"1\" class=\"dataframe\">\n",
       "  <thead>\n",
       "    <tr style=\"text-align: right;\">\n",
       "      <th></th>\n",
       "      <th>match_id</th>\n",
       "      <th>team1</th>\n",
       "      <th>team2</th>\n",
       "      <th>winner</th>\n",
       "      <th>venue</th>\n",
       "      <th>runs_team1</th>\n",
       "      <th>runs_team2</th>\n",
       "    </tr>\n",
       "  </thead>\n",
       "  <tbody>\n",
       "    <tr>\n",
       "      <th>0</th>\n",
       "      <td>1</td>\n",
       "      <td>MI</td>\n",
       "      <td>CSK</td>\n",
       "      <td>MI</td>\n",
       "      <td>Mumbai</td>\n",
       "      <td>165</td>\n",
       "      <td>160</td>\n",
       "    </tr>\n",
       "    <tr>\n",
       "      <th>1</th>\n",
       "      <td>2</td>\n",
       "      <td>CSK</td>\n",
       "      <td>RCB</td>\n",
       "      <td>RCB</td>\n",
       "      <td>Chennai</td>\n",
       "      <td>150</td>\n",
       "      <td>151</td>\n",
       "    </tr>\n",
       "    <tr>\n",
       "      <th>2</th>\n",
       "      <td>3</td>\n",
       "      <td>RCB</td>\n",
       "      <td>GT</td>\n",
       "      <td>GT</td>\n",
       "      <td>Bangalore</td>\n",
       "      <td>178</td>\n",
       "      <td>180</td>\n",
       "    </tr>\n",
       "    <tr>\n",
       "      <th>3</th>\n",
       "      <td>4</td>\n",
       "      <td>MI</td>\n",
       "      <td>RR</td>\n",
       "      <td>RR</td>\n",
       "      <td>Delhi</td>\n",
       "      <td>190</td>\n",
       "      <td>192</td>\n",
       "    </tr>\n",
       "    <tr>\n",
       "      <th>4</th>\n",
       "      <td>5</td>\n",
       "      <td>GT</td>\n",
       "      <td>LSG</td>\n",
       "      <td>GT</td>\n",
       "      <td>Ahmedabad</td>\n",
       "      <td>200</td>\n",
       "      <td>198</td>\n",
       "    </tr>\n",
       "  </tbody>\n",
       "</table>\n",
       "</div>"
      ],
      "text/plain": [
       "   match_id team1 team2 winner      venue  runs_team1  runs_team2\n",
       "0         1    MI   CSK     MI     Mumbai         165         160\n",
       "1         2   CSK   RCB    RCB    Chennai         150         151\n",
       "2         3   RCB    GT     GT  Bangalore         178         180\n",
       "3         4    MI    RR     RR      Delhi         190         192\n",
       "4         5    GT   LSG     GT  Ahmedabad         200         198"
      ]
     },
     "execution_count": 11,
     "metadata": {},
     "output_type": "execute_result"
    }
   ],
   "source": [
    "DataSet.head()"
   ]
  },
  {
   "cell_type": "code",
   "execution_count": 12,
   "id": "79e9a3ec",
   "metadata": {},
   "outputs": [],
   "source": [
    "DataSet[\"Total Score\"]=DataSet.runs_team1+ DataSet.runs_team2\n"
   ]
  },
  {
   "cell_type": "code",
   "execution_count": 13,
   "id": "21a14e11",
   "metadata": {},
   "outputs": [
    {
     "data": {
      "text/html": [
       "<div>\n",
       "<style scoped>\n",
       "    .dataframe tbody tr th:only-of-type {\n",
       "        vertical-align: middle;\n",
       "    }\n",
       "\n",
       "    .dataframe tbody tr th {\n",
       "        vertical-align: top;\n",
       "    }\n",
       "\n",
       "    .dataframe thead th {\n",
       "        text-align: right;\n",
       "    }\n",
       "</style>\n",
       "<table border=\"1\" class=\"dataframe\">\n",
       "  <thead>\n",
       "    <tr style=\"text-align: right;\">\n",
       "      <th></th>\n",
       "      <th>match_id</th>\n",
       "      <th>team1</th>\n",
       "      <th>team2</th>\n",
       "      <th>winner</th>\n",
       "      <th>venue</th>\n",
       "      <th>runs_team1</th>\n",
       "      <th>runs_team2</th>\n",
       "      <th>Total Score</th>\n",
       "    </tr>\n",
       "  </thead>\n",
       "  <tbody>\n",
       "    <tr>\n",
       "      <th>0</th>\n",
       "      <td>1</td>\n",
       "      <td>MI</td>\n",
       "      <td>CSK</td>\n",
       "      <td>MI</td>\n",
       "      <td>Mumbai</td>\n",
       "      <td>165</td>\n",
       "      <td>160</td>\n",
       "      <td>325</td>\n",
       "    </tr>\n",
       "    <tr>\n",
       "      <th>2</th>\n",
       "      <td>3</td>\n",
       "      <td>RCB</td>\n",
       "      <td>GT</td>\n",
       "      <td>GT</td>\n",
       "      <td>Bangalore</td>\n",
       "      <td>178</td>\n",
       "      <td>180</td>\n",
       "      <td>358</td>\n",
       "    </tr>\n",
       "    <tr>\n",
       "      <th>3</th>\n",
       "      <td>4</td>\n",
       "      <td>MI</td>\n",
       "      <td>RR</td>\n",
       "      <td>RR</td>\n",
       "      <td>Delhi</td>\n",
       "      <td>190</td>\n",
       "      <td>192</td>\n",
       "      <td>382</td>\n",
       "    </tr>\n",
       "    <tr>\n",
       "      <th>4</th>\n",
       "      <td>5</td>\n",
       "      <td>GT</td>\n",
       "      <td>LSG</td>\n",
       "      <td>GT</td>\n",
       "      <td>Ahmedabad</td>\n",
       "      <td>200</td>\n",
       "      <td>198</td>\n",
       "      <td>398</td>\n",
       "    </tr>\n",
       "  </tbody>\n",
       "</table>\n",
       "</div>"
      ],
      "text/plain": [
       "   match_id team1 team2 winner      venue  runs_team1  runs_team2  Total Score\n",
       "0         1    MI   CSK     MI     Mumbai         165         160          325\n",
       "2         3   RCB    GT     GT  Bangalore         178         180          358\n",
       "3         4    MI    RR     RR      Delhi         190         192          382\n",
       "4         5    GT   LSG     GT  Ahmedabad         200         198          398"
      ]
     },
     "execution_count": 13,
     "metadata": {},
     "output_type": "execute_result"
    }
   ],
   "source": [
    "DataSet[DataSet[\"Total Score\"]>320]"
   ]
  },
  {
   "cell_type": "code",
   "execution_count": 14,
   "id": "740c7338",
   "metadata": {},
   "outputs": [
    {
     "data": {
      "text/html": [
       "<div>\n",
       "<style scoped>\n",
       "    .dataframe tbody tr th:only-of-type {\n",
       "        vertical-align: middle;\n",
       "    }\n",
       "\n",
       "    .dataframe tbody tr th {\n",
       "        vertical-align: top;\n",
       "    }\n",
       "\n",
       "    .dataframe thead th {\n",
       "        text-align: right;\n",
       "    }\n",
       "</style>\n",
       "<table border=\"1\" class=\"dataframe\">\n",
       "  <thead>\n",
       "    <tr style=\"text-align: right;\">\n",
       "      <th></th>\n",
       "      <th>match_id</th>\n",
       "      <th>team1</th>\n",
       "      <th>team2</th>\n",
       "      <th>winner</th>\n",
       "      <th>venue</th>\n",
       "      <th>runs_team1</th>\n",
       "      <th>runs_team2</th>\n",
       "      <th>Total Score</th>\n",
       "    </tr>\n",
       "  </thead>\n",
       "  <tbody>\n",
       "    <tr>\n",
       "      <th>0</th>\n",
       "      <td>1</td>\n",
       "      <td>MI</td>\n",
       "      <td>CSK</td>\n",
       "      <td>MI</td>\n",
       "      <td>Mumbai</td>\n",
       "      <td>165</td>\n",
       "      <td>160</td>\n",
       "      <td>325</td>\n",
       "    </tr>\n",
       "    <tr>\n",
       "      <th>3</th>\n",
       "      <td>4</td>\n",
       "      <td>MI</td>\n",
       "      <td>RR</td>\n",
       "      <td>RR</td>\n",
       "      <td>Delhi</td>\n",
       "      <td>190</td>\n",
       "      <td>192</td>\n",
       "      <td>382</td>\n",
       "    </tr>\n",
       "  </tbody>\n",
       "</table>\n",
       "</div>"
      ],
      "text/plain": [
       "   match_id team1 team2 winner   venue  runs_team1  runs_team2  Total Score\n",
       "0         1    MI   CSK     MI  Mumbai         165         160          325\n",
       "3         4    MI    RR     RR   Delhi         190         192          382"
      ]
     },
     "execution_count": 14,
     "metadata": {},
     "output_type": "execute_result"
    }
   ],
   "source": [
    "DataSet[DataSet[\"team1\"]==\"MI\"]"
   ]
  },
  {
   "cell_type": "code",
   "execution_count": 15,
   "id": "de4218fd",
   "metadata": {},
   "outputs": [
    {
     "name": "stdout",
     "output_type": "stream",
     "text": [
      "['MI' 'CSK' 'RCB' 'GT']\n"
     ]
    }
   ],
   "source": [
    "unique=DataSet[\"team1\"].unique()\n",
    "print(unique)"
   ]
  },
  {
   "cell_type": "code",
   "execution_count": 16,
   "id": "0fd37562",
   "metadata": {},
   "outputs": [
    {
     "data": {
      "text/html": [
       "<div>\n",
       "<style scoped>\n",
       "    .dataframe tbody tr th:only-of-type {\n",
       "        vertical-align: middle;\n",
       "    }\n",
       "\n",
       "    .dataframe tbody tr th {\n",
       "        vertical-align: top;\n",
       "    }\n",
       "\n",
       "    .dataframe thead th {\n",
       "        text-align: right;\n",
       "    }\n",
       "</style>\n",
       "<table border=\"1\" class=\"dataframe\">\n",
       "  <thead>\n",
       "    <tr style=\"text-align: right;\">\n",
       "      <th></th>\n",
       "      <th>match_id</th>\n",
       "      <th>team1</th>\n",
       "      <th>team2</th>\n",
       "      <th>winner</th>\n",
       "      <th>venue</th>\n",
       "      <th>runs_team1</th>\n",
       "      <th>runs_team2</th>\n",
       "      <th>Total Score</th>\n",
       "    </tr>\n",
       "  </thead>\n",
       "  <tbody>\n",
       "    <tr>\n",
       "      <th>0</th>\n",
       "      <td>1</td>\n",
       "      <td>MI</td>\n",
       "      <td>CSK</td>\n",
       "      <td>MI</td>\n",
       "      <td>Mumbai</td>\n",
       "      <td>165</td>\n",
       "      <td>160</td>\n",
       "      <td>325</td>\n",
       "    </tr>\n",
       "    <tr>\n",
       "      <th>1</th>\n",
       "      <td>2</td>\n",
       "      <td>CSK</td>\n",
       "      <td>RCB</td>\n",
       "      <td>RCB</td>\n",
       "      <td>Chennai</td>\n",
       "      <td>150</td>\n",
       "      <td>151</td>\n",
       "      <td>301</td>\n",
       "    </tr>\n",
       "    <tr>\n",
       "      <th>2</th>\n",
       "      <td>3</td>\n",
       "      <td>RCB</td>\n",
       "      <td>GT</td>\n",
       "      <td>GT</td>\n",
       "      <td>Bangalore</td>\n",
       "      <td>178</td>\n",
       "      <td>180</td>\n",
       "      <td>358</td>\n",
       "    </tr>\n",
       "    <tr>\n",
       "      <th>3</th>\n",
       "      <td>4</td>\n",
       "      <td>MI</td>\n",
       "      <td>RR</td>\n",
       "      <td>RR</td>\n",
       "      <td>Delhi</td>\n",
       "      <td>190</td>\n",
       "      <td>192</td>\n",
       "      <td>382</td>\n",
       "    </tr>\n",
       "    <tr>\n",
       "      <th>4</th>\n",
       "      <td>5</td>\n",
       "      <td>GT</td>\n",
       "      <td>LSG</td>\n",
       "      <td>GT</td>\n",
       "      <td>Ahmedabad</td>\n",
       "      <td>200</td>\n",
       "      <td>198</td>\n",
       "      <td>398</td>\n",
       "    </tr>\n",
       "  </tbody>\n",
       "</table>\n",
       "</div>"
      ],
      "text/plain": [
       "   match_id team1 team2 winner      venue  runs_team1  runs_team2  Total Score\n",
       "0         1    MI   CSK     MI     Mumbai         165         160          325\n",
       "1         2   CSK   RCB    RCB    Chennai         150         151          301\n",
       "2         3   RCB    GT     GT  Bangalore         178         180          358\n",
       "3         4    MI    RR     RR      Delhi         190         192          382\n",
       "4         5    GT   LSG     GT  Ahmedabad         200         198          398"
      ]
     },
     "execution_count": 16,
     "metadata": {},
     "output_type": "execute_result"
    }
   ],
   "source": [
    "DataSet"
   ]
  },
  {
   "cell_type": "code",
   "execution_count": 17,
   "id": "646d795b",
   "metadata": {},
   "outputs": [
    {
     "name": "stdout",
     "output_type": "stream",
     "text": [
      "0     MI\n",
      "1    RCB\n",
      "2     GT\n",
      "3     RR\n",
      "4     GT\n",
      "Name: winner, dtype: object 0    325\n",
      "1    301\n",
      "2    358\n",
      "3    382\n",
      "4    398\n",
      "Name: Total Score, dtype: int64\n"
     ]
    }
   ],
   "source": [
    "winners=DataSet[\"winner\"]\n",
    "totalScore=DataSet[\"Total Score\"]\n",
    "\n",
    "print(winners, totalScore)"
   ]
  },
  {
   "cell_type": "code",
   "execution_count": 18,
   "id": "b3c0e3af",
   "metadata": {},
   "outputs": [],
   "source": [
    "DataSetNumpy=np.array(DataSet)"
   ]
  },
  {
   "cell_type": "code",
   "execution_count": 19,
   "id": "2b29ea03",
   "metadata": {},
   "outputs": [
    {
     "name": "stdout",
     "output_type": "stream",
     "text": [
      "[[1 'MI' 'CSK' 'MI' 'Mumbai' 165 160 325]\n",
      " [2 'CSK' 'RCB' 'RCB' 'Chennai' 150 151 301]\n",
      " [3 'RCB' 'GT' 'GT' 'Bangalore' 178 180 358]\n",
      " [4 'MI' 'RR' 'RR' 'Delhi' 190 192 382]\n",
      " [5 'GT' 'LSG' 'GT' 'Ahmedabad' 200 198 398]]\n"
     ]
    }
   ],
   "source": [
    "print(DataSetNumpy)"
   ]
  },
  {
   "cell_type": "code",
   "execution_count": 20,
   "id": "5e08ed6f",
   "metadata": {},
   "outputs": [
    {
     "data": {
      "text/html": [
       "<div>\n",
       "<style scoped>\n",
       "    .dataframe tbody tr th:only-of-type {\n",
       "        vertical-align: middle;\n",
       "    }\n",
       "\n",
       "    .dataframe tbody tr th {\n",
       "        vertical-align: top;\n",
       "    }\n",
       "\n",
       "    .dataframe thead th {\n",
       "        text-align: right;\n",
       "    }\n",
       "</style>\n",
       "<table border=\"1\" class=\"dataframe\">\n",
       "  <thead>\n",
       "    <tr style=\"text-align: right;\">\n",
       "      <th></th>\n",
       "      <th>match_id</th>\n",
       "      <th>team1</th>\n",
       "      <th>team2</th>\n",
       "      <th>winner</th>\n",
       "      <th>venue</th>\n",
       "      <th>runs_team1</th>\n",
       "      <th>runs_team2</th>\n",
       "      <th>Total Score</th>\n",
       "    </tr>\n",
       "  </thead>\n",
       "  <tbody>\n",
       "    <tr>\n",
       "      <th>0</th>\n",
       "      <td>1</td>\n",
       "      <td>MI</td>\n",
       "      <td>CSK</td>\n",
       "      <td>MI</td>\n",
       "      <td>Mumbai</td>\n",
       "      <td>165</td>\n",
       "      <td>160</td>\n",
       "      <td>325</td>\n",
       "    </tr>\n",
       "    <tr>\n",
       "      <th>1</th>\n",
       "      <td>2</td>\n",
       "      <td>CSK</td>\n",
       "      <td>RCB</td>\n",
       "      <td>RCB</td>\n",
       "      <td>Chennai</td>\n",
       "      <td>150</td>\n",
       "      <td>151</td>\n",
       "      <td>301</td>\n",
       "    </tr>\n",
       "    <tr>\n",
       "      <th>2</th>\n",
       "      <td>3</td>\n",
       "      <td>RCB</td>\n",
       "      <td>GT</td>\n",
       "      <td>GT</td>\n",
       "      <td>Bangalore</td>\n",
       "      <td>178</td>\n",
       "      <td>180</td>\n",
       "      <td>358</td>\n",
       "    </tr>\n",
       "    <tr>\n",
       "      <th>3</th>\n",
       "      <td>4</td>\n",
       "      <td>MI</td>\n",
       "      <td>RR</td>\n",
       "      <td>RR</td>\n",
       "      <td>Delhi</td>\n",
       "      <td>190</td>\n",
       "      <td>192</td>\n",
       "      <td>382</td>\n",
       "    </tr>\n",
       "    <tr>\n",
       "      <th>4</th>\n",
       "      <td>5</td>\n",
       "      <td>GT</td>\n",
       "      <td>LSG</td>\n",
       "      <td>GT</td>\n",
       "      <td>Ahmedabad</td>\n",
       "      <td>200</td>\n",
       "      <td>198</td>\n",
       "      <td>398</td>\n",
       "    </tr>\n",
       "  </tbody>\n",
       "</table>\n",
       "</div>"
      ],
      "text/plain": [
       "   match_id team1 team2 winner      venue  runs_team1  runs_team2  Total Score\n",
       "0         1    MI   CSK     MI     Mumbai         165         160          325\n",
       "1         2   CSK   RCB    RCB    Chennai         150         151          301\n",
       "2         3   RCB    GT     GT  Bangalore         178         180          358\n",
       "3         4    MI    RR     RR      Delhi         190         192          382\n",
       "4         5    GT   LSG     GT  Ahmedabad         200         198          398"
      ]
     },
     "execution_count": 20,
     "metadata": {},
     "output_type": "execute_result"
    }
   ],
   "source": [
    "DataSet"
   ]
  },
  {
   "cell_type": "code",
   "execution_count": 21,
   "id": "19bcfa90",
   "metadata": {},
   "outputs": [
    {
     "data": {
      "text/html": [
       "<div>\n",
       "<style scoped>\n",
       "    .dataframe tbody tr th:only-of-type {\n",
       "        vertical-align: middle;\n",
       "    }\n",
       "\n",
       "    .dataframe tbody tr th {\n",
       "        vertical-align: top;\n",
       "    }\n",
       "\n",
       "    .dataframe thead th {\n",
       "        text-align: right;\n",
       "    }\n",
       "</style>\n",
       "<table border=\"1\" class=\"dataframe\">\n",
       "  <thead>\n",
       "    <tr style=\"text-align: right;\">\n",
       "      <th></th>\n",
       "      <th>match_id</th>\n",
       "      <th>team1</th>\n",
       "      <th>team2</th>\n",
       "      <th>winner</th>\n",
       "      <th>venue</th>\n",
       "      <th>runs_team1</th>\n",
       "      <th>runs_team2</th>\n",
       "      <th>Total Score</th>\n",
       "    </tr>\n",
       "  </thead>\n",
       "  <tbody>\n",
       "    <tr>\n",
       "      <th>0</th>\n",
       "      <td>1</td>\n",
       "      <td>MI</td>\n",
       "      <td>CSK</td>\n",
       "      <td>MI</td>\n",
       "      <td>Mumbai</td>\n",
       "      <td>165</td>\n",
       "      <td>160</td>\n",
       "      <td>325</td>\n",
       "    </tr>\n",
       "    <tr>\n",
       "      <th>1</th>\n",
       "      <td>2</td>\n",
       "      <td>CSK</td>\n",
       "      <td>RCB</td>\n",
       "      <td>RCB</td>\n",
       "      <td>Chennai</td>\n",
       "      <td>150</td>\n",
       "      <td>151</td>\n",
       "      <td>301</td>\n",
       "    </tr>\n",
       "    <tr>\n",
       "      <th>2</th>\n",
       "      <td>3</td>\n",
       "      <td>RCB</td>\n",
       "      <td>GT</td>\n",
       "      <td>GT</td>\n",
       "      <td>Bangalore</td>\n",
       "      <td>178</td>\n",
       "      <td>180</td>\n",
       "      <td>358</td>\n",
       "    </tr>\n",
       "  </tbody>\n",
       "</table>\n",
       "</div>"
      ],
      "text/plain": [
       "   match_id team1 team2 winner      venue  runs_team1  runs_team2  Total Score\n",
       "0         1    MI   CSK     MI     Mumbai         165         160          325\n",
       "1         2   CSK   RCB    RCB    Chennai         150         151          301\n",
       "2         3   RCB    GT     GT  Bangalore         178         180          358"
      ]
     },
     "execution_count": 21,
     "metadata": {},
     "output_type": "execute_result"
    }
   ],
   "source": [
    "DataSet.loc[0:2]"
   ]
  },
  {
   "cell_type": "code",
   "execution_count": null,
   "id": "5961c3d6",
   "metadata": {},
   "outputs": [],
   "source": []
  }
 ],
 "metadata": {
  "kernelspec": {
   "display_name": "Python 3",
   "language": "python",
   "name": "python3"
  },
  "language_info": {
   "codemirror_mode": {
    "name": "ipython",
    "version": 3
   },
   "file_extension": ".py",
   "mimetype": "text/x-python",
   "name": "python",
   "nbconvert_exporter": "python",
   "pygments_lexer": "ipython3",
   "version": "3.13.0"
  }
 },
 "nbformat": 4,
 "nbformat_minor": 5
}
