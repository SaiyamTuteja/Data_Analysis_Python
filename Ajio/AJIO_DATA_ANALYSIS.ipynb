{
 "cells": [
  {
   "cell_type": "markdown",
   "id": "8cb5a8d6",
   "metadata": {},
   "source": [
    "## Welcome to the Ajio Data Analaysis Project"
   ]
  },
  {
   "cell_type": "code",
   "execution_count": 4,
   "id": "9e31ac30",
   "metadata": {},
   "outputs": [],
   "source": [
    "import pandas as pd\n",
    "import numpy as np\n",
    "import matplotlib.pyplot as plt\n",
    "import seaborn as sys"
   ]
  },
  {
   "cell_type": "code",
   "execution_count": 5,
   "id": "d3ecda60",
   "metadata": {},
   "outputs": [],
   "source": [
    "Customer= pd.read_csv(\"customer.csv\")\n",
    "Delivery= pd. read_csv(\"delivery.csv\")\n",
    "Orders=pd.read_csv(\"orders.csv\")\n",
    "Rating=pd.read_csv(\"ratings.csv\")\n",
    "Returns= pd.read_csv(\"returns.csv\")\n",
    "Transaction = pd.read_csv(\"transaction.csv\")\n",
    "Products=pd.read_csv(\"products.csv\")"
   ]
  },
  {
   "cell_type": "code",
   "execution_count": 6,
   "id": "73ea70f5",
   "metadata": {},
   "outputs": [
    {
     "data": {
      "text/html": [
       "<div>\n",
       "<style scoped>\n",
       "    .dataframe tbody tr th:only-of-type {\n",
       "        vertical-align: middle;\n",
       "    }\n",
       "\n",
       "    .dataframe tbody tr th {\n",
       "        vertical-align: top;\n",
       "    }\n",
       "\n",
       "    .dataframe thead th {\n",
       "        text-align: right;\n",
       "    }\n",
       "</style>\n",
       "<table border=\"1\" class=\"dataframe\">\n",
       "  <thead>\n",
       "    <tr style=\"text-align: right;\">\n",
       "      <th></th>\n",
       "      <th>C_ID</th>\n",
       "      <th>C_Name</th>\n",
       "      <th>Gender</th>\n",
       "      <th>Age</th>\n",
       "      <th>City</th>\n",
       "      <th>State</th>\n",
       "      <th>Street_Address</th>\n",
       "      <th>Mobile</th>\n",
       "    </tr>\n",
       "  </thead>\n",
       "  <tbody>\n",
       "    <tr>\n",
       "      <th>0</th>\n",
       "      <td>CS_11000001</td>\n",
       "      <td>Manbir Lala</td>\n",
       "      <td>Male</td>\n",
       "      <td>67</td>\n",
       "      <td>Delhi</td>\n",
       "      <td>Delhi</td>\n",
       "      <td>Park Ave, 163 , Delhi , Delhi - 529675</td>\n",
       "      <td>9607971039</td>\n",
       "    </tr>\n",
       "    <tr>\n",
       "      <th>1</th>\n",
       "      <td>CS_11000002</td>\n",
       "      <td>Radhika More</td>\n",
       "      <td>Female</td>\n",
       "      <td>51</td>\n",
       "      <td>Pune</td>\n",
       "      <td>Maharashtra</td>\n",
       "      <td>Elm St, 960 , Pune , Maharashtra - 328062</td>\n",
       "      <td>9109249091</td>\n",
       "    </tr>\n",
       "  </tbody>\n",
       "</table>\n",
       "</div>"
      ],
      "text/plain": [
       "          C_ID        C_Name  Gender  Age   City        State  \\\n",
       "0  CS_11000001   Manbir Lala    Male   67  Delhi        Delhi   \n",
       "1  CS_11000002  Radhika More  Female   51   Pune  Maharashtra   \n",
       "\n",
       "                              Street_Address      Mobile  \n",
       "0     Park Ave, 163 , Delhi , Delhi - 529675  9607971039  \n",
       "1  Elm St, 960 , Pune , Maharashtra - 328062  9109249091  "
      ]
     },
     "execution_count": 6,
     "metadata": {},
     "output_type": "execute_result"
    }
   ],
   "source": [
    "Customer.head(2)"
   ]
  },
  {
   "cell_type": "code",
   "execution_count": 7,
   "id": "41c2755f",
   "metadata": {},
   "outputs": [
    {
     "data": {
      "text/html": [
       "<div>\n",
       "<style scoped>\n",
       "    .dataframe tbody tr th:only-of-type {\n",
       "        vertical-align: middle;\n",
       "    }\n",
       "\n",
       "    .dataframe tbody tr th {\n",
       "        vertical-align: top;\n",
       "    }\n",
       "\n",
       "    .dataframe thead th {\n",
       "        text-align: right;\n",
       "    }\n",
       "</style>\n",
       "<table border=\"1\" class=\"dataframe\">\n",
       "  <thead>\n",
       "    <tr style=\"text-align: right;\">\n",
       "      <th></th>\n",
       "      <th>DP_ID</th>\n",
       "      <th>DP_name</th>\n",
       "      <th>DP_Ratings</th>\n",
       "      <th>Percent_Cut</th>\n",
       "    </tr>\n",
       "  </thead>\n",
       "  <tbody>\n",
       "    <tr>\n",
       "      <th>0</th>\n",
       "      <td>DV_61000001</td>\n",
       "      <td>Delhivery</td>\n",
       "      <td>5</td>\n",
       "      <td>25</td>\n",
       "    </tr>\n",
       "    <tr>\n",
       "      <th>1</th>\n",
       "      <td>DV_61000002</td>\n",
       "      <td>Ecom Express</td>\n",
       "      <td>4</td>\n",
       "      <td>20</td>\n",
       "    </tr>\n",
       "  </tbody>\n",
       "</table>\n",
       "</div>"
      ],
      "text/plain": [
       "         DP_ID       DP_name  DP_Ratings  Percent_Cut\n",
       "0  DV_61000001     Delhivery           5           25\n",
       "1  DV_61000002  Ecom Express           4           20"
      ]
     },
     "execution_count": 7,
     "metadata": {},
     "output_type": "execute_result"
    }
   ],
   "source": [
    "Delivery.head(2)"
   ]
  },
  {
   "cell_type": "code",
   "execution_count": 9,
   "id": "289ceb74",
   "metadata": {},
   "outputs": [
    {
     "data": {
      "text/html": [
       "<div>\n",
       "<style scoped>\n",
       "    .dataframe tbody tr th:only-of-type {\n",
       "        vertical-align: middle;\n",
       "    }\n",
       "\n",
       "    .dataframe tbody tr th {\n",
       "        vertical-align: top;\n",
       "    }\n",
       "\n",
       "    .dataframe thead th {\n",
       "        text-align: right;\n",
       "    }\n",
       "</style>\n",
       "<table border=\"1\" class=\"dataframe\">\n",
       "  <thead>\n",
       "    <tr style=\"text-align: right;\">\n",
       "      <th></th>\n",
       "      <th>Or_ID</th>\n",
       "      <th>C_ID</th>\n",
       "      <th>P_ID</th>\n",
       "      <th>Order_Date</th>\n",
       "      <th>Order_Time</th>\n",
       "      <th>Qty</th>\n",
       "      <th>Coupon</th>\n",
       "      <th>DP_ID</th>\n",
       "      <th>Discount</th>\n",
       "    </tr>\n",
       "  </thead>\n",
       "  <tbody>\n",
       "    <tr>\n",
       "      <th>0</th>\n",
       "      <td>OR_31000001</td>\n",
       "      <td>CS_11005317</td>\n",
       "      <td>PD_21001301</td>\n",
       "      <td>2024-02-27</td>\n",
       "      <td>22:02:00</td>\n",
       "      <td>1</td>\n",
       "      <td>No Coupon</td>\n",
       "      <td>DV_61000001</td>\n",
       "      <td>0</td>\n",
       "    </tr>\n",
       "    <tr>\n",
       "      <th>1</th>\n",
       "      <td>OR_31000002</td>\n",
       "      <td>CS_11000423</td>\n",
       "      <td>PD_21003593</td>\n",
       "      <td>2024-01-21</td>\n",
       "      <td>08:33:31</td>\n",
       "      <td>5</td>\n",
       "      <td>PULL</td>\n",
       "      <td>DV_61000002</td>\n",
       "      <td>25</td>\n",
       "    </tr>\n",
       "  </tbody>\n",
       "</table>\n",
       "</div>"
      ],
      "text/plain": [
       "         Or_ID         C_ID         P_ID  Order_Date Order_Time  Qty  \\\n",
       "0  OR_31000001  CS_11005317  PD_21001301  2024-02-27   22:02:00    1   \n",
       "1  OR_31000002  CS_11000423  PD_21003593  2024-01-21   08:33:31    5   \n",
       "\n",
       "      Coupon        DP_ID  Discount  \n",
       "0  No Coupon  DV_61000001         0  \n",
       "1       PULL  DV_61000002        25  "
      ]
     },
     "execution_count": 9,
     "metadata": {},
     "output_type": "execute_result"
    }
   ],
   "source": [
    "Orders.head(2)"
   ]
  },
  {
   "cell_type": "code",
   "execution_count": 10,
   "id": "7b5c5b4f",
   "metadata": {},
   "outputs": [
    {
     "data": {
      "text/html": [
       "<div>\n",
       "<style scoped>\n",
       "    .dataframe tbody tr th:only-of-type {\n",
       "        vertical-align: middle;\n",
       "    }\n",
       "\n",
       "    .dataframe tbody tr th {\n",
       "        vertical-align: top;\n",
       "    }\n",
       "\n",
       "    .dataframe thead th {\n",
       "        text-align: right;\n",
       "    }\n",
       "</style>\n",
       "<table border=\"1\" class=\"dataframe\">\n",
       "  <thead>\n",
       "    <tr style=\"text-align: right;\">\n",
       "      <th></th>\n",
       "      <th>R_ID</th>\n",
       "      <th>Or_ID</th>\n",
       "      <th>Prod_Rating</th>\n",
       "      <th>Delivery_Service_Rating</th>\n",
       "    </tr>\n",
       "  </thead>\n",
       "  <tbody>\n",
       "    <tr>\n",
       "      <th>0</th>\n",
       "      <td>RT_101000001</td>\n",
       "      <td>OR_31009479</td>\n",
       "      <td>4</td>\n",
       "      <td>5</td>\n",
       "    </tr>\n",
       "    <tr>\n",
       "      <th>1</th>\n",
       "      <td>RT_101000002</td>\n",
       "      <td>OR_31001385</td>\n",
       "      <td>2</td>\n",
       "      <td>2</td>\n",
       "    </tr>\n",
       "  </tbody>\n",
       "</table>\n",
       "</div>"
      ],
      "text/plain": [
       "           R_ID        Or_ID  Prod_Rating  Delivery_Service_Rating\n",
       "0  RT_101000001  OR_31009479            4                        5\n",
       "1  RT_101000002  OR_31001385            2                        2"
      ]
     },
     "execution_count": 10,
     "metadata": {},
     "output_type": "execute_result"
    }
   ],
   "source": [
    "Rating.head(2)"
   ]
  },
  {
   "cell_type": "code",
   "execution_count": 11,
   "id": "6b741b76",
   "metadata": {},
   "outputs": [
    {
     "data": {
      "text/html": [
       "<div>\n",
       "<style scoped>\n",
       "    .dataframe tbody tr th:only-of-type {\n",
       "        vertical-align: middle;\n",
       "    }\n",
       "\n",
       "    .dataframe tbody tr th {\n",
       "        vertical-align: top;\n",
       "    }\n",
       "\n",
       "    .dataframe thead th {\n",
       "        text-align: right;\n",
       "    }\n",
       "</style>\n",
       "<table border=\"1\" class=\"dataframe\">\n",
       "  <thead>\n",
       "    <tr style=\"text-align: right;\">\n",
       "      <th></th>\n",
       "      <th>RT_ID</th>\n",
       "      <th>Or_ID</th>\n",
       "      <th>Reason</th>\n",
       "      <th>Return_Refund</th>\n",
       "      <th>Dates</th>\n",
       "    </tr>\n",
       "  </thead>\n",
       "  <tbody>\n",
       "    <tr>\n",
       "      <th>0</th>\n",
       "      <td>RR_301000001</td>\n",
       "      <td>OR_31004141</td>\n",
       "      <td>Wrong Item Shipped</td>\n",
       "      <td>Approved</td>\n",
       "      <td>2023-04-08</td>\n",
       "    </tr>\n",
       "    <tr>\n",
       "      <th>1</th>\n",
       "      <td>RR_301000002</td>\n",
       "      <td>OR_31008145</td>\n",
       "      <td>Late Delivery</td>\n",
       "      <td>Rejected</td>\n",
       "      <td>2024-05-13</td>\n",
       "    </tr>\n",
       "  </tbody>\n",
       "</table>\n",
       "</div>"
      ],
      "text/plain": [
       "          RT_ID        Or_ID              Reason Return_Refund       Dates\n",
       "0  RR_301000001  OR_31004141  Wrong Item Shipped      Approved  2023-04-08\n",
       "1  RR_301000002  OR_31008145       Late Delivery      Rejected  2024-05-13"
      ]
     },
     "execution_count": 11,
     "metadata": {},
     "output_type": "execute_result"
    }
   ],
   "source": [
    "Returns.head(2)"
   ]
  },
  {
   "cell_type": "code",
   "execution_count": 12,
   "id": "093bb9ef",
   "metadata": {},
   "outputs": [
    {
     "data": {
      "text/html": [
       "<div>\n",
       "<style scoped>\n",
       "    .dataframe tbody tr th:only-of-type {\n",
       "        vertical-align: middle;\n",
       "    }\n",
       "\n",
       "    .dataframe tbody tr th {\n",
       "        vertical-align: top;\n",
       "    }\n",
       "\n",
       "    .dataframe thead th {\n",
       "        text-align: right;\n",
       "    }\n",
       "</style>\n",
       "<table border=\"1\" class=\"dataframe\">\n",
       "  <thead>\n",
       "    <tr style=\"text-align: right;\">\n",
       "      <th></th>\n",
       "      <th>P_ID</th>\n",
       "      <th>P_Name</th>\n",
       "      <th>Category</th>\n",
       "      <th>Company_Name</th>\n",
       "      <th>Gender</th>\n",
       "      <th>Price</th>\n",
       "    </tr>\n",
       "  </thead>\n",
       "  <tbody>\n",
       "    <tr>\n",
       "      <th>0</th>\n",
       "      <td>PD_21000001</td>\n",
       "      <td>Distressed Stretch Denim Charcoal Faded Jeans</td>\n",
       "      <td>Jeans</td>\n",
       "      <td>Puma</td>\n",
       "      <td>Unisex</td>\n",
       "      <td>1589</td>\n",
       "    </tr>\n",
       "    <tr>\n",
       "      <th>1</th>\n",
       "      <td>PD_21000002</td>\n",
       "      <td>Straight Leg Cotton Blend Light Blue Faded Jeans</td>\n",
       "      <td>Jeans</td>\n",
       "      <td>Gap</td>\n",
       "      <td>Men</td>\n",
       "      <td>2211</td>\n",
       "    </tr>\n",
       "  </tbody>\n",
       "</table>\n",
       "</div>"
      ],
      "text/plain": [
       "          P_ID                                            P_Name Category  \\\n",
       "0  PD_21000001     Distressed Stretch Denim Charcoal Faded Jeans    Jeans   \n",
       "1  PD_21000002  Straight Leg Cotton Blend Light Blue Faded Jeans    Jeans   \n",
       "\n",
       "  Company_Name  Gender  Price  \n",
       "0         Puma  Unisex   1589  \n",
       "1          Gap     Men   2211  "
      ]
     },
     "execution_count": 12,
     "metadata": {},
     "output_type": "execute_result"
    }
   ],
   "source": [
    "Products.head(2)"
   ]
  },
  {
   "cell_type": "code",
   "execution_count": 13,
   "id": "af474ea3",
   "metadata": {},
   "outputs": [
    {
     "data": {
      "text/html": [
       "<div>\n",
       "<style scoped>\n",
       "    .dataframe tbody tr th:only-of-type {\n",
       "        vertical-align: middle;\n",
       "    }\n",
       "\n",
       "    .dataframe tbody tr th {\n",
       "        vertical-align: top;\n",
       "    }\n",
       "\n",
       "    .dataframe thead th {\n",
       "        text-align: right;\n",
       "    }\n",
       "</style>\n",
       "<table border=\"1\" class=\"dataframe\">\n",
       "  <thead>\n",
       "    <tr style=\"text-align: right;\">\n",
       "      <th></th>\n",
       "      <th>Tr_ID</th>\n",
       "      <th>Or_ID</th>\n",
       "      <th>Transaction_Mode</th>\n",
       "      <th>Reward</th>\n",
       "    </tr>\n",
       "  </thead>\n",
       "  <tbody>\n",
       "    <tr>\n",
       "      <th>0</th>\n",
       "      <td>TR_41000001</td>\n",
       "      <td>OR_31002037</td>\n",
       "      <td>Wallet</td>\n",
       "      <td>No</td>\n",
       "    </tr>\n",
       "    <tr>\n",
       "      <th>1</th>\n",
       "      <td>TR_41000002</td>\n",
       "      <td>OR_31008376</td>\n",
       "      <td>Wallet</td>\n",
       "      <td>Yes</td>\n",
       "    </tr>\n",
       "  </tbody>\n",
       "</table>\n",
       "</div>"
      ],
      "text/plain": [
       "         Tr_ID        Or_ID Transaction_Mode Reward\n",
       "0  TR_41000001  OR_31002037           Wallet     No\n",
       "1  TR_41000002  OR_31008376           Wallet    Yes"
      ]
     },
     "execution_count": 13,
     "metadata": {},
     "output_type": "execute_result"
    }
   ],
   "source": [
    "Transaction.head(2)"
   ]
  },
  {
   "cell_type": "code",
   "execution_count": null,
   "id": "443376f7",
   "metadata": {},
   "outputs": [],
   "source": []
  }
 ],
 "metadata": {
  "kernelspec": {
   "display_name": "Python 3",
   "language": "python",
   "name": "python3"
  },
  "language_info": {
   "codemirror_mode": {
    "name": "ipython",
    "version": 3
   },
   "file_extension": ".py",
   "mimetype": "text/x-python",
   "name": "python",
   "nbconvert_exporter": "python",
   "pygments_lexer": "ipython3",
   "version": "3.13.0"
  }
 },
 "nbformat": 4,
 "nbformat_minor": 5
}
