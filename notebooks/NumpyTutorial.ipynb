{
 "cells": [
  {
   "cell_type": "markdown",
   "id": "b40a10c1",
   "metadata": {},
   "source": [
    "## 📚 Welcome to the NumPy Tutorial\n",
    "Let's explore Python's powerful numerical library — **NumPy**."
   ]
  },
  {
   "cell_type": "code",
   "execution_count": null,
   "id": "62545aa3",
   "metadata": {},
   "outputs": [],
   "source": [
    "# ✅ Importing the NumPy library\n",
    "import numpy as np"
   ]
  },
  {
   "cell_type": "markdown",
   "id": "0cebb3ce",
   "metadata": {},
   "source": [
    "### 🔢 Creating a NumPy Array"
   ]
  },
  {
   "cell_type": "code",
   "execution_count": null,
   "id": "37ccfa7f",
   "metadata": {},
   "outputs": [],
   "source": [
    "# Creating a 1D NumPy array with integers\n",
    "arr = np.array([1, 2, 3, 4, 46, 5], dtype=np.int32)\n",
    "print(\"Array:\", arr)"
   ]
  },
  {
   "cell_type": "markdown",
   "id": "45eb2398",
   "metadata": {},
   "source": [
    "### 📐 Checking Shape and Data Type"
   ]
  },
  {
   "cell_type": "code",
   "execution_count": null,
   "id": "70006dbf",
   "metadata": {},
   "outputs": [],
   "source": [
    "print(\"Shape of array:\", arr.shape)\n",
    "print(\"Data type of array:\", arr.dtype)"
   ]
  },
  {
   "cell_type": "markdown",
   "id": "4a92130c",
   "metadata": {},
   "source": [
    "### 🧩 Reshaping Arrays"
   ]
  },
  {
   "cell_type": "code",
   "execution_count": null,
   "id": "5a4f5a6c",
   "metadata": {},
   "outputs": [],
   "source": [
    "reshaped = np.arange(12).reshape(3, 4)\n",
    "print(\"Reshaped Array (3x4):\\n\", reshaped)"
   ]
  },
  {
   "cell_type": "markdown",
   "id": "44a9828e",
   "metadata": {},
   "source": [
    "### ✂️ Slicing and Indexing"
   ]
  },
  {
   "cell_type": "code",
   "execution_count": null,
   "id": "0aeea283",
   "metadata": {},
   "outputs": [],
   "source": [
    "print(\"Second row:\", reshaped[1])\n",
    "print(\"Element at (2,3):\", reshaped[2,3])\n",
    "print(\"First two rows:\\n\", reshaped[:2])"
   ]
  },
  {
   "cell_type": "markdown",
   "id": "31099a0d",
   "metadata": {},
   "source": [
    "### ➕ Arithmetic Operations"
   ]
  },
  {
   "cell_type": "code",
   "execution_count": null,
   "id": "4140cde6",
   "metadata": {},
   "outputs": [],
   "source": [
    "a = np.array([10, 20, 30])\n",
    "b = np.array([1, 2, 3])\n",
    "print(\"Addition:\", a + b)\n",
    "print(\"Multiplication:\", a * b)"
   ]
  },
  {
   "cell_type": "markdown",
   "id": "4f72c163",
   "metadata": {},
   "source": [
    "### 📊 Aggregation Functions"
   ]
  },
  {
   "cell_type": "code",
   "execution_count": null,
   "id": "a0df6961",
   "metadata": {},
   "outputs": [],
   "source": [
    "print(\"Sum:\", reshaped.sum())\n",
    "print(\"Mean:\", reshaped.mean())\n",
    "print(\"Max:\", reshaped.max())"
   ]
  },
  {
   "cell_type": "markdown",
   "id": "41b4e28a",
   "metadata": {},
   "source": [
    "### 🎲 Random Number Generation"
   ]
  },
  {
   "cell_type": "code",
   "execution_count": null,
   "id": "e0ba54ed",
   "metadata": {},
   "outputs": [],
   "source": [
    "random_array = np.random.randint(1, 100, size=(3, 3))\n",
    "print(\"Random 3x3 Array:\\n\", random_array)"
   ]
  },
  {
   "cell_type": "markdown",
   "id": "7cc7bab0",
   "metadata": {},
   "source": [
    "### 🧠 Broadcasting Example"
   ]
  },
  {
   "cell_type": "code",
   "execution_count": null,
   "id": "1716e288",
   "metadata": {},
   "outputs": [],
   "source": [
    "arr = np.array([[1, 2, 3], [4, 5, 6]])\n",
    "print(\"Original Array:\\n\", arr)\n",
    "print(\"After Broadcasting (add 10):\\n\", arr + 10)"
   ]
  },
  {
   "cell_type": "markdown",
   "id": "60e95332",
   "metadata": {},
   "source": [
    "---\n",
    "### ✅ That's it for now!\n",
    "You've just practiced many core features of **NumPy** 🎉"
   ]
  }
 ],
 "metadata": {
  "kernelspec": {
   "display_name": "Python 3",
   "language": "python",
   "name": "python3"
  },
  "language_info": {
   "codemirror_mode": {
    "name": "ipython",
    "version": 3
   },
   "file_extension": ".py",
   "mimetype": "text/x-python",
   "name": "python",
   "nbconvert_exporter": "python",
   "pygments_lexer": "ipython3",
   "version": "3.13.0"
  }
 },
 "nbformat": 4,
 "nbformat_minor": 5
}
