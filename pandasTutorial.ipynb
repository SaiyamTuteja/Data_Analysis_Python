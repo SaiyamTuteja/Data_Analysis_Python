{
 "cells": [
  {
   "cell_type": "code",
   "execution_count": 2,
   "id": "23cae5e2",
   "metadata": {},
   "outputs": [],
   "source": [
    "import numpy as np\n",
    "import pandas as pd"
   ]
  },
  {
   "cell_type": "markdown",
   "id": "5f6fb12c",
   "metadata": {},
   "source": [
    "imported the Libraries for using Dataframe and Series and do mathamtical calculation on the datasets"
   ]
  },
  {
   "cell_type": "code",
   "execution_count": null,
   "id": "7962819c",
   "metadata": {},
   "outputs": [],
   "source": []
  }
 ],
 "metadata": {
  "kernelspec": {
   "display_name": "Python 3",
   "language": "python",
   "name": "python3"
  },
  "language_info": {
   "codemirror_mode": {
    "name": "ipython",
    "version": 3
   },
   "file_extension": ".py",
   "mimetype": "text/x-python",
   "name": "python",
   "nbconvert_exporter": "python",
   "pygments_lexer": "ipython3",
   "version": "3.13.0"
  }
 },
 "nbformat": 4,
 "nbformat_minor": 5
}
